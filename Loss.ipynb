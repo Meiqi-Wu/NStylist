{
 "cells": [
  {
   "cell_type": "code",
   "execution_count": 16,
   "metadata": {},
   "outputs": [],
   "source": [
    "#imports\n",
    "import numpy as np\n",
    "import torch\n",
    "from torch import nn\n",
    "import torchvision"
   ]
  },
  {
   "cell_type": "code",
   "execution_count": 20,
   "metadata": {},
   "outputs": [],
   "source": [
    "style = torch.rand((3,640,360))\n",
    "lmbda = 1e4\n",
    "alpha = 1\n",
    "beta = 10\n",
    "gamma = 1e-3\n",
    "c_layers = 22 #ReLU4_2\n",
    "s_layers = [3,8,13,22] #ReLU1_2, ReLU2_2, ReLU3_2, ReLU4_2\n",
    "eta = 1"
   ]
  },
  {
   "cell_type": "code",
   "execution_count": 18,
   "metadata": {},
   "outputs": [],
   "source": [
    "class HybridLoss(nn.Module):\n",
    "    \n",
    "    def __init__(self, style, lmbda, alpha, beta, gamma, c_layers, s_layers, eta):\n",
    "        super(ContentLoss, self).__init__()\n",
    "        self.style = style\n",
    "        self.lmbda = lmbda\n",
    "        self.alpha = alpha\n",
    "        self.beta = beta\n",
    "        self.gamma = gamma\n",
    "        self.c_layers = c_layers\n",
    "        self.s_layers = s_layers\n",
    "        self.eta = eta\n",
    "        \n",
    "\n",
    "    def forward(self, input, output, input_prev, output_prev):\n",
    "        return hybrid_loss(input, output, input_prev, output_prev, style=self.style, \n",
    "                           lmbda=self.lmbda, alpha=self.alpha, beta=self.beta, gamma=self.gamma, \n",
    "                           c_layers=self.c_layers, s_layers=self.s_layers, eta=self.eta)"
   ]
  },
  {
   "cell_type": "code",
   "execution_count": 2,
   "metadata": {},
   "outputs": [],
   "source": [
    "def hybrid_loss(input, output, input_prev, output_prev, style, lmbda, alpha, beta, gamma, c_layers, s_layers, eta):\n",
    "    sp_loss = spatial_loss(input, output, style, alpha, beta, gamma, c_layers, s_layers, eta)\n",
    "    sp_loss_prev = spatial_loss(input_prev, output_prev, style, alpha, beta, gamma, c_layers, s_layers, eta)\n",
    "    sp_loss_total = sp_loss + sp_loss_prev\n",
    "    tem_loss = temporal_loss(output, output_prev)\n",
    "    \n",
    "    return sp_loss + lmbda*tem_loss"
   ]
  },
  {
   "cell_type": "code",
   "execution_count": 3,
   "metadata": {},
   "outputs": [],
   "source": [
    "def spatial_loss(input, output, style, alpha, beta, gamma, c_layers, s_layers, eta):\n",
    "    feat_net = extractor_net()\n",
    "    feats_in = extract_features(input, feat_net)\n",
    "    feats_out = extract_features(output, feat_net)\n",
    "    content_acc = 0.0\n",
    "    for l in c_layers:\n",
    "        content_acc += content_loss(feats_in[l], feats_out[l])\n",
    "        \n",
    "    style_acc = 0.0\n",
    "    for l in s_layers:\n",
    "        style_acc += style_loss(style, output)\n",
    "        \n",
    "    reg = tv_reg(output, eta)\n",
    "    \n",
    "    return alpha*content_acc + beta*style_acc + gamma*reg\n",
    "    "
   ]
  },
  {
   "cell_type": "code",
   "execution_count": 6,
   "metadata": {},
   "outputs": [],
   "source": [
    "# Feature extractor net\n",
    "def extractor_net():\n",
    "    net = torchvision.models.vgg19(pretrained=True).features.eval()\n",
    "    for param in net.parameters():\n",
    "        param.requires_grad = False\n",
    "    \n",
    "    return net"
   ]
  },
  {
   "cell_type": "code",
   "execution_count": 22,
   "metadata": {},
   "outputs": [
    {
     "data": {
      "text/plain": [
       "torch.Size([5, 3, 640, 360])"
      ]
     },
     "execution_count": 22,
     "metadata": {},
     "output_type": "execute_result"
    }
   ],
   "source": [
    "test = torch.rand((5,3,640,360))\n",
    "test_out = torch.rand((5,3,640,360))\n",
    "test.shape"
   ]
  },
  {
   "cell_type": "code",
   "execution_count": 35,
   "metadata": {},
   "outputs": [
    {
     "data": {
      "text/plain": [
       "tensor(0.1666)"
      ]
     },
     "execution_count": 35,
     "metadata": {},
     "output_type": "execute_result"
    }
   ],
   "source": [
    "content_loss(test,test_out)"
   ]
  },
  {
   "cell_type": "code",
   "execution_count": 36,
   "metadata": {},
   "outputs": [
    {
     "data": {
      "text/plain": [
       "tensor(0.8330)"
      ]
     },
     "execution_count": 36,
     "metadata": {},
     "output_type": "execute_result"
    }
   ],
   "source": [
    "acc = 0.0\n",
    "for i in range(5):\n",
    "    acc+=content_loss(test[i].view(1,3,640,360),test_out[i].view(1,3,640,360))\n",
    "acc"
   ]
  },
  {
   "cell_type": "code",
   "execution_count": 11,
   "metadata": {},
   "outputs": [],
   "source": [
    "feats=extract_features(test, extractor_net())"
   ]
  },
  {
   "cell_type": "code",
   "execution_count": 13,
   "metadata": {},
   "outputs": [
    {
     "data": {
      "text/plain": [
       "37"
      ]
     },
     "execution_count": 13,
     "metadata": {},
     "output_type": "execute_result"
    }
   ],
   "source": [
    "len(feats)"
   ]
  },
  {
   "cell_type": "code",
   "execution_count": 21,
   "metadata": {},
   "outputs": [],
   "source": [
    "# torchvision.models.vgg19(pretrained=True)"
   ]
  },
  {
   "cell_type": "code",
   "execution_count": 7,
   "metadata": {},
   "outputs": [],
   "source": [
    "# Feature extractor layer util function\n",
    "def extract_features(x, net):\n",
    "    features = []\n",
    "    feat = x\n",
    "    for module in net._modules.values():\n",
    "        feat = module(feat)\n",
    "        features.append(feat)\n",
    "        \n",
    "    return features"
   ]
  },
  {
   "cell_type": "code",
   "execution_count": 34,
   "metadata": {},
   "outputs": [],
   "source": [
    "def content_loss(input, output):\n",
    "    N, C, H, W = input.size()\n",
    "#     loss = torch.zeros(N)\n",
    "#     for i in range(N):\n",
    "#         loss[i] = torch.sum(torch.pow(input[i]-output[i],2))\n",
    "    loss = torch.sum(torch.pow(input-output,2))\n",
    "    loss = loss/float(N*C*H*W)\n",
    "    \n",
    "    return loss"
   ]
  },
  {
   "cell_type": "code",
   "execution_count": 12,
   "metadata": {},
   "outputs": [],
   "source": [
    "# Gram matrix util function\n",
    "def gram_matrix(features):\n",
    "    N, C, H, W = features.size()\n",
    "    features = features.view(N,C,H*W)\n",
    "    gram_matrix = torch.zeros([N,C,C])\n",
    "    for i in range(N):\n",
    "        gram_matrix[i,:] = torch.matmul(features[i,:],features[i,:].t())\n",
    "    gram_matrix = gram_matrix/float(H*W)\n",
    "    \n",
    "    return gram_matrix"
   ]
  },
  {
   "cell_type": "code",
   "execution_count": 13,
   "metadata": {},
   "outputs": [],
   "source": [
    "def style_loss(style, output):\n",
    "    style_gram = gram_matrix(style)\n",
    "    output_gram = gram_matrix(output)\n",
    "    N, C, C = output_gram.size()\n",
    "    loss = 0\n",
    "    for i in range(N):\n",
    "        loss += torch.pow(torch.norm(style_gram[i,:]-output_gram[i,:]), 2)\n",
    "    loss = loss/float(C**2)\n",
    "    \n",
    "    return loss"
   ]
  },
  {
   "cell_type": "code",
   "execution_count": 14,
   "metadata": {},
   "outputs": [],
   "source": [
    "def tv_reg(frame, eta):\n",
    "    N, C, H, W = frame.size()\n",
    "    horz = torch.sum(torch.pow(img[:,:,1:,:]-img[:,:,:-1,:], 2))\n",
    "    vert = torch.sum(torch.pow(img[:,:,:,1:]-img[:,:,:,:-1], 2))\n",
    "    loss = torch.pow(vert+horz, eta/2)\n",
    "    \n",
    "    return loss "
   ]
  },
  {
   "cell_type": "code",
   "execution_count": null,
   "metadata": {},
   "outputs": [],
   "source": []
  },
  {
   "cell_type": "code",
   "execution_count": null,
   "metadata": {},
   "outputs": [],
   "source": [
    "# Optical Flow Net\n",
    "# Use flow net 2\n"
   ]
  },
  {
   "cell_type": "code",
   "execution_count": null,
   "metadata": {},
   "outputs": [],
   "source": [
    "# Optical Flow util function\n",
    "def optical_flow(frame_prev, frame):\n",
    "    pass"
   ]
  },
  {
   "cell_type": "code",
   "execution_count": null,
   "metadata": {},
   "outputs": [],
   "source": [
    "def temporal_loss(frame, frame_prev):\n",
    "    # D = H x W x C\n",
    "#     warp, c = optical_flow(frame_prev, frame)\n",
    "#     return (1/D)*to2rch.sum(c*(frame-warp)**2)\n",
    "    return 0"
   ]
  }
 ],
 "metadata": {
  "kernelspec": {
   "display_name": "Python 3",
   "language": "python",
   "name": "python3"
  },
  "language_info": {
   "codemirror_mode": {
    "name": "ipython",
    "version": 3
   },
   "file_extension": ".py",
   "mimetype": "text/x-python",
   "name": "python",
   "nbconvert_exporter": "python",
   "pygments_lexer": "ipython3",
   "version": "3.7.3"
  }
 },
 "nbformat": 4,
 "nbformat_minor": 2
}
